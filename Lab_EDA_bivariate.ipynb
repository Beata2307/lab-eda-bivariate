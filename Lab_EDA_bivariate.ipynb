{
 "cells": [
  {
   "cell_type": "code",
   "execution_count": 155,
   "id": "b18edf34-dffc-45e1-8927-c9a225945d73",
   "metadata": {
    "tags": []
   },
   "outputs": [],
   "source": [
    "import pandas as pd\n",
    "import seaborn as sns\n",
    "import matplotlib.pyplot as plt\n",
    "import numpy as np"
   ]
  },
  {
   "cell_type": "code",
   "execution_count": 2,
   "id": "83f6a084-66d1-48fa-864c-6eb96b6f4827",
   "metadata": {
    "tags": []
   },
   "outputs": [],
   "source": [
    "df = pd.read_csv('../lab-eda-univariate/amz_uk_price_prediction_dataset.csv')"
   ]
  },
  {
   "cell_type": "code",
   "execution_count": 3,
   "id": "818b3c58-2249-4eb5-b9a3-b77de02945db",
   "metadata": {
    "tags": []
   },
   "outputs": [
    {
     "data": {
      "text/html": [
       "<div>\n",
       "<style scoped>\n",
       "    .dataframe tbody tr th:only-of-type {\n",
       "        vertical-align: middle;\n",
       "    }\n",
       "\n",
       "    .dataframe tbody tr th {\n",
       "        vertical-align: top;\n",
       "    }\n",
       "\n",
       "    .dataframe thead th {\n",
       "        text-align: right;\n",
       "    }\n",
       "</style>\n",
       "<table border=\"1\" class=\"dataframe\">\n",
       "  <thead>\n",
       "    <tr style=\"text-align: right;\">\n",
       "      <th></th>\n",
       "      <th>uid</th>\n",
       "      <th>asin</th>\n",
       "      <th>title</th>\n",
       "      <th>stars</th>\n",
       "      <th>reviews</th>\n",
       "      <th>price</th>\n",
       "      <th>isBestSeller</th>\n",
       "      <th>boughtInLastMonth</th>\n",
       "      <th>category</th>\n",
       "    </tr>\n",
       "  </thead>\n",
       "  <tbody>\n",
       "    <tr>\n",
       "      <th>0</th>\n",
       "      <td>1</td>\n",
       "      <td>B09B96TG33</td>\n",
       "      <td>Echo Dot (5th generation, 2022 release) | Big ...</td>\n",
       "      <td>4.7</td>\n",
       "      <td>15308</td>\n",
       "      <td>21.99</td>\n",
       "      <td>False</td>\n",
       "      <td>0</td>\n",
       "      <td>Hi-Fi Speakers</td>\n",
       "    </tr>\n",
       "    <tr>\n",
       "      <th>1</th>\n",
       "      <td>2</td>\n",
       "      <td>B01HTH3C8S</td>\n",
       "      <td>Anker Soundcore mini, Super-Portable Bluetooth...</td>\n",
       "      <td>4.7</td>\n",
       "      <td>98099</td>\n",
       "      <td>23.99</td>\n",
       "      <td>True</td>\n",
       "      <td>0</td>\n",
       "      <td>Hi-Fi Speakers</td>\n",
       "    </tr>\n",
       "    <tr>\n",
       "      <th>2</th>\n",
       "      <td>3</td>\n",
       "      <td>B09B8YWXDF</td>\n",
       "      <td>Echo Dot (5th generation, 2022 release) | Big ...</td>\n",
       "      <td>4.7</td>\n",
       "      <td>15308</td>\n",
       "      <td>21.99</td>\n",
       "      <td>False</td>\n",
       "      <td>0</td>\n",
       "      <td>Hi-Fi Speakers</td>\n",
       "    </tr>\n",
       "  </tbody>\n",
       "</table>\n",
       "</div>"
      ],
      "text/plain": [
       "   uid        asin                                              title  stars  \\\n",
       "0    1  B09B96TG33  Echo Dot (5th generation, 2022 release) | Big ...    4.7   \n",
       "1    2  B01HTH3C8S  Anker Soundcore mini, Super-Portable Bluetooth...    4.7   \n",
       "2    3  B09B8YWXDF  Echo Dot (5th generation, 2022 release) | Big ...    4.7   \n",
       "\n",
       "   reviews  price  isBestSeller  boughtInLastMonth        category  \n",
       "0    15308  21.99         False                  0  Hi-Fi Speakers  \n",
       "1    98099  23.99          True                  0  Hi-Fi Speakers  \n",
       "2    15308  21.99         False                  0  Hi-Fi Speakers  "
      ]
     },
     "execution_count": 3,
     "metadata": {},
     "output_type": "execute_result"
    }
   ],
   "source": [
    "df.head(3)"
   ]
  },
  {
   "cell_type": "markdown",
   "id": "a9d3ddbf-b61b-4592-ac15-0afaf7c11c93",
   "metadata": {},
   "source": [
    "## Part 1: Analyzing Best-Seller Trends Across Product Categories"
   ]
  },
  {
   "cell_type": "markdown",
   "id": "f9957452-6d8c-4bca-a60f-296c2e641e6d",
   "metadata": {},
   "source": [
    "**Objective:** Understand the relationship between product categories and their best-seller status.\n",
    "\n",
    "**1. Crosstab Analysis:**\n",
    "\n",
    " - Create a crosstab between the product category and the isBestSeller status.\n",
    "\n",
    " - Are there categories where being a best-seller is more prevalent?\n",
    "\n",
    "    Hint: one option is to calculate the proportion of best-sellers for each category and then sort the categories based on this proportion in descending order."
   ]
  },
  {
   "cell_type": "code",
   "execution_count": 32,
   "id": "1efd6c9e-5f4b-4c3f-b647-f7730733935b",
   "metadata": {
    "tags": []
   },
   "outputs": [],
   "source": [
    "crosstab_data = pd.crosstab(df['category'], df['isBestSeller'])"
   ]
  },
  {
   "cell_type": "code",
   "execution_count": 33,
   "id": "e4034906-297c-4d05-a949-2cb1a6a72ffe",
   "metadata": {
    "tags": []
   },
   "outputs": [
    {
     "data": {
      "text/html": [
       "<div>\n",
       "<style scoped>\n",
       "    .dataframe tbody tr th:only-of-type {\n",
       "        vertical-align: middle;\n",
       "    }\n",
       "\n",
       "    .dataframe tbody tr th {\n",
       "        vertical-align: top;\n",
       "    }\n",
       "\n",
       "    .dataframe thead th {\n",
       "        text-align: right;\n",
       "    }\n",
       "</style>\n",
       "<table border=\"1\" class=\"dataframe\">\n",
       "  <thead>\n",
       "    <tr style=\"text-align: right;\">\n",
       "      <th>isBestSeller</th>\n",
       "      <th>False</th>\n",
       "      <th>True</th>\n",
       "    </tr>\n",
       "    <tr>\n",
       "      <th>category</th>\n",
       "      <th></th>\n",
       "      <th></th>\n",
       "    </tr>\n",
       "  </thead>\n",
       "  <tbody>\n",
       "    <tr>\n",
       "      <th>3D Printers</th>\n",
       "      <td>247</td>\n",
       "      <td>1</td>\n",
       "    </tr>\n",
       "    <tr>\n",
       "      <th>3D Printing &amp; Scanning</th>\n",
       "      <td>4065</td>\n",
       "      <td>2</td>\n",
       "    </tr>\n",
       "    <tr>\n",
       "      <th>Abrasive &amp; Finishing Products</th>\n",
       "      <td>245</td>\n",
       "      <td>5</td>\n",
       "    </tr>\n",
       "    <tr>\n",
       "      <th>Action Cameras</th>\n",
       "      <td>1696</td>\n",
       "      <td>1</td>\n",
       "    </tr>\n",
       "    <tr>\n",
       "      <th>Adapters</th>\n",
       "      <td>251</td>\n",
       "      <td>3</td>\n",
       "    </tr>\n",
       "    <tr>\n",
       "      <th>...</th>\n",
       "      <td>...</td>\n",
       "      <td>...</td>\n",
       "    </tr>\n",
       "    <tr>\n",
       "      <th>Wind Instruments</th>\n",
       "      <td>243</td>\n",
       "      <td>7</td>\n",
       "    </tr>\n",
       "    <tr>\n",
       "      <th>Window Treatments</th>\n",
       "      <td>234</td>\n",
       "      <td>5</td>\n",
       "    </tr>\n",
       "    <tr>\n",
       "      <th>Women</th>\n",
       "      <td>17559</td>\n",
       "      <td>213</td>\n",
       "    </tr>\n",
       "    <tr>\n",
       "      <th>Women's Sports &amp; Outdoor Shoes</th>\n",
       "      <td>1939</td>\n",
       "      <td>20</td>\n",
       "    </tr>\n",
       "    <tr>\n",
       "      <th>eBook Readers &amp; Accessories</th>\n",
       "      <td>246</td>\n",
       "      <td>0</td>\n",
       "    </tr>\n",
       "  </tbody>\n",
       "</table>\n",
       "<p>296 rows × 2 columns</p>\n",
       "</div>"
      ],
      "text/plain": [
       "isBestSeller                    False  True \n",
       "category                                    \n",
       "3D Printers                       247      1\n",
       "3D Printing & Scanning           4065      2\n",
       "Abrasive & Finishing Products     245      5\n",
       "Action Cameras                   1696      1\n",
       "Adapters                          251      3\n",
       "...                               ...    ...\n",
       "Wind Instruments                  243      7\n",
       "Window Treatments                 234      5\n",
       "Women                           17559    213\n",
       "Women's Sports & Outdoor Shoes   1939     20\n",
       "eBook Readers & Accessories       246      0\n",
       "\n",
       "[296 rows x 2 columns]"
      ]
     },
     "execution_count": 33,
     "metadata": {},
     "output_type": "execute_result"
    }
   ],
   "source": [
    "crosstab_data"
   ]
  },
  {
   "cell_type": "code",
   "execution_count": 72,
   "id": "56d56462-deee-4fc3-86ff-cd9bc0977dd5",
   "metadata": {
    "tags": []
   },
   "outputs": [],
   "source": [
    "#(crosstab_data[False]/(crosstab_data[False] + crosstab_data[True]))*100"
   ]
  },
  {
   "cell_type": "code",
   "execution_count": 74,
   "id": "b28ac0b8-94b9-4ff2-8222-1625f28da48b",
   "metadata": {
    "tags": []
   },
   "outputs": [],
   "source": [
    "crosstab_data['proportion'] = (crosstab_data[True]/(crosstab_data[False] + crosstab_data[True]))*100"
   ]
  },
  {
   "cell_type": "code",
   "execution_count": null,
   "id": "c90c3b97-99cc-43f4-9ae0-0bbcf0cba2aa",
   "metadata": {},
   "outputs": [],
   "source": [
    "proportion = df.groupby(‘category’)[‘isBestSeller’].mean().sort_values(ascending=False)"
   ]
  },
  {
   "cell_type": "code",
   "execution_count": 79,
   "id": "74790add-65c8-4e46-a933-4f395b0074d0",
   "metadata": {
    "tags": []
   },
   "outputs": [
    {
     "data": {
      "text/html": [
       "<div>\n",
       "<style scoped>\n",
       "    .dataframe tbody tr th:only-of-type {\n",
       "        vertical-align: middle;\n",
       "    }\n",
       "\n",
       "    .dataframe tbody tr th {\n",
       "        vertical-align: top;\n",
       "    }\n",
       "\n",
       "    .dataframe thead th {\n",
       "        text-align: right;\n",
       "    }\n",
       "</style>\n",
       "<table border=\"1\" class=\"dataframe\">\n",
       "  <thead>\n",
       "    <tr style=\"text-align: right;\">\n",
       "      <th>isBestSeller</th>\n",
       "      <th>False</th>\n",
       "      <th>True</th>\n",
       "      <th>proportion</th>\n",
       "    </tr>\n",
       "    <tr>\n",
       "      <th>category</th>\n",
       "      <th></th>\n",
       "      <th></th>\n",
       "      <th></th>\n",
       "    </tr>\n",
       "  </thead>\n",
       "  <tbody>\n",
       "    <tr>\n",
       "      <th>Grocery</th>\n",
       "      <td>9008</td>\n",
       "      <td>556</td>\n",
       "      <td>5.813467</td>\n",
       "    </tr>\n",
       "    <tr>\n",
       "      <th>Smart Home Security &amp; Lighting</th>\n",
       "      <td>98</td>\n",
       "      <td>6</td>\n",
       "      <td>5.769231</td>\n",
       "    </tr>\n",
       "    <tr>\n",
       "      <th>Health &amp; Personal Care</th>\n",
       "      <td>9017</td>\n",
       "      <td>552</td>\n",
       "      <td>5.768628</td>\n",
       "    </tr>\n",
       "    <tr>\n",
       "      <th>Mobile Phone Accessories</th>\n",
       "      <td>248</td>\n",
       "      <td>11</td>\n",
       "      <td>4.247104</td>\n",
       "    </tr>\n",
       "    <tr>\n",
       "      <th>Power &amp; Hand Tools</th>\n",
       "      <td>8353</td>\n",
       "      <td>306</td>\n",
       "      <td>3.533895</td>\n",
       "    </tr>\n",
       "    <tr>\n",
       "      <th>...</th>\n",
       "      <td>...</td>\n",
       "      <td>...</td>\n",
       "      <td>...</td>\n",
       "    </tr>\n",
       "    <tr>\n",
       "      <th>CD, Disc &amp; Tape Players</th>\n",
       "      <td>8798</td>\n",
       "      <td>0</td>\n",
       "      <td>0.000000</td>\n",
       "    </tr>\n",
       "    <tr>\n",
       "      <th>General Music-Making Accessories</th>\n",
       "      <td>259</td>\n",
       "      <td>0</td>\n",
       "      <td>0.000000</td>\n",
       "    </tr>\n",
       "    <tr>\n",
       "      <th>Snowboard Boots</th>\n",
       "      <td>1449</td>\n",
       "      <td>0</td>\n",
       "      <td>0.000000</td>\n",
       "    </tr>\n",
       "    <tr>\n",
       "      <th>Boxes &amp; Organisers</th>\n",
       "      <td>911</td>\n",
       "      <td>0</td>\n",
       "      <td>0.000000</td>\n",
       "    </tr>\n",
       "    <tr>\n",
       "      <th>eBook Readers &amp; Accessories</th>\n",
       "      <td>246</td>\n",
       "      <td>0</td>\n",
       "      <td>0.000000</td>\n",
       "    </tr>\n",
       "  </tbody>\n",
       "</table>\n",
       "<p>296 rows × 3 columns</p>\n",
       "</div>"
      ],
      "text/plain": [
       "isBestSeller                      False  True  proportion\n",
       "category                                                 \n",
       "Grocery                            9008   556    5.813467\n",
       "Smart Home Security & Lighting       98     6    5.769231\n",
       "Health & Personal Care             9017   552    5.768628\n",
       "Mobile Phone Accessories            248    11    4.247104\n",
       "Power & Hand Tools                 8353   306    3.533895\n",
       "...                                 ...   ...         ...\n",
       "CD, Disc & Tape Players            8798     0    0.000000\n",
       "General Music-Making Accessories    259     0    0.000000\n",
       "Snowboard Boots                    1449     0    0.000000\n",
       "Boxes & Organisers                  911     0    0.000000\n",
       "eBook Readers & Accessories         246     0    0.000000\n",
       "\n",
       "[296 rows x 3 columns]"
      ]
     },
     "execution_count": 79,
     "metadata": {},
     "output_type": "execute_result"
    }
   ],
   "source": [
    "crosstab_data.sort_values('proportion',ascending=False)"
   ]
  },
  {
   "cell_type": "code",
   "execution_count": 80,
   "id": "6e814f89-4d85-4efd-beac-3d9de1a150c3",
   "metadata": {
    "tags": []
   },
   "outputs": [
    {
     "name": "stdout",
     "output_type": "stream",
     "text": [
      "Categories where being a best-seller is more prevalent are: ['Grocery', 'Smart Home Security & Lighting', 'Health & Personal Care', 'Mobile Phone Accessories', 'Power & Hand Tools'] \n"
     ]
    }
   ],
   "source": [
    "print(f\"Categories where being a best-seller is more prevalent are: {list((crosstab_data.sort_values('proportion',ascending=False)).head(5).index)} \")"
   ]
  },
  {
   "cell_type": "markdown",
   "id": "8f466d01-5832-44cd-91e2-f436ff9dd0fe",
   "metadata": {},
   "source": [
    "**2. Statistical Tests:**\n",
    "\n",
    "- Conduct a Chi-square test to determine if the best-seller distribution is independent of the product category.\n",
    " - Compute Cramér's V to understand the strength of association between best-seller status and category."
   ]
  },
  {
   "cell_type": "code",
   "execution_count": 91,
   "id": "5e81ffd5-8b7f-4a9b-b500-dd2936fd6917",
   "metadata": {
    "tags": []
   },
   "outputs": [],
   "source": [
    "selected_columns = crosstab_data.drop('proportion', axis=1)"
   ]
  },
  {
   "cell_type": "code",
   "execution_count": 96,
   "id": "89f33261-2315-4a71-acf9-dd52eb79ff9b",
   "metadata": {
    "tags": []
   },
   "outputs": [
    {
     "name": "stdout",
     "output_type": "stream",
     "text": [
      "Chi-square statistic: 36540.20270061387\n",
      "P-value: 0.0\n",
      "Degrees of freedom: 295\n"
     ]
    }
   ],
   "source": [
    "from scipy.stats import chi2_contingency\n",
    "\n",
    "chi2, p_value, dof, expected = chi2_contingency(selected_columns)\n",
    "\n",
    "# Print the results\n",
    "print(f\"Chi-square statistic: {chi2}\")\n",
    "print(f\"P-value: {p_value}\")\n",
    "print(f\"Degrees of freedom: {dof}\")\n",
    "#print(\"Expected frequencies table:\")\n",
    "#print(expected)\n"
   ]
  },
  {
   "cell_type": "markdown",
   "id": "f55308fb-6e45-4304-87f8-ffad3274fa56",
   "metadata": {},
   "source": [
    "- p-value = 0 indicates that there is a correlation between data"
   ]
  },
  {
   "cell_type": "code",
   "execution_count": 103,
   "id": "f9998332-15a1-4a96-bc92-08271ec169f1",
   "metadata": {
    "tags": []
   },
   "outputs": [
    {
     "name": "stdout",
     "output_type": "stream",
     "text": [
      "Cramér's V association between best-seller status and category : 0.1222829439760564\n"
     ]
    }
   ],
   "source": [
    "from scipy.stats.contingency import association\n",
    "\n",
    "# Computing the association between variables in 'crosstab_result' using the \"cramer\" method\n",
    "a = association(selected_columns, method=\"cramer\")\n",
    "\n",
    "print(f\"Cramér's V association between best-seller status and category : {a}\")"
   ]
  },
  {
   "cell_type": "markdown",
   "id": "09773ff8-46ef-4527-b7c0-f6e0aa5814f1",
   "metadata": {},
   "source": [
    "- this value indicates rather weak correlation between data"
   ]
  },
  {
   "cell_type": "markdown",
   "id": "dbf8b21d-7a87-4892-b459-d9c5fb514bc7",
   "metadata": {},
   "source": [
    "**3. Visualizations:**\n",
    "\n",
    " - Visualize the relationship between product categories and the best-seller status using a stacked bar chart."
   ]
  },
  {
   "cell_type": "code",
   "execution_count": 46,
   "id": "ad05bca6-6ecd-40e5-9327-4bf58135783f",
   "metadata": {
    "tags": []
   },
   "outputs": [
    {
     "data": {
      "text/html": [
       "<div>\n",
       "<style scoped>\n",
       "    .dataframe tbody tr th:only-of-type {\n",
       "        vertical-align: middle;\n",
       "    }\n",
       "\n",
       "    .dataframe tbody tr th {\n",
       "        vertical-align: top;\n",
       "    }\n",
       "\n",
       "    .dataframe thead th {\n",
       "        text-align: right;\n",
       "    }\n",
       "</style>\n",
       "<table border=\"1\" class=\"dataframe\">\n",
       "  <thead>\n",
       "    <tr style=\"text-align: right;\">\n",
       "      <th>isBestSeller</th>\n",
       "      <th>False</th>\n",
       "      <th>True</th>\n",
       "    </tr>\n",
       "    <tr>\n",
       "      <th>category</th>\n",
       "      <th></th>\n",
       "      <th></th>\n",
       "    </tr>\n",
       "  </thead>\n",
       "  <tbody>\n",
       "    <tr>\n",
       "      <th>Grocery</th>\n",
       "      <td>9008</td>\n",
       "      <td>556</td>\n",
       "    </tr>\n",
       "    <tr>\n",
       "      <th>Health &amp; Personal Care</th>\n",
       "      <td>9017</td>\n",
       "      <td>552</td>\n",
       "    </tr>\n",
       "    <tr>\n",
       "      <th>Baby</th>\n",
       "      <td>14709</td>\n",
       "      <td>341</td>\n",
       "    </tr>\n",
       "    <tr>\n",
       "      <th>Sports &amp; Outdoors</th>\n",
       "      <td>835935</td>\n",
       "      <td>330</td>\n",
       "    </tr>\n",
       "    <tr>\n",
       "      <th>Power &amp; Hand Tools</th>\n",
       "      <td>8353</td>\n",
       "      <td>306</td>\n",
       "    </tr>\n",
       "    <tr>\n",
       "      <th>Beauty</th>\n",
       "      <td>19010</td>\n",
       "      <td>302</td>\n",
       "    </tr>\n",
       "    <tr>\n",
       "      <th>Pet Supplies</th>\n",
       "      <td>9152</td>\n",
       "      <td>285</td>\n",
       "    </tr>\n",
       "  </tbody>\n",
       "</table>\n",
       "</div>"
      ],
      "text/plain": [
       "isBestSeller             False  True \n",
       "category                             \n",
       "Grocery                   9008    556\n",
       "Health & Personal Care    9017    552\n",
       "Baby                     14709    341\n",
       "Sports & Outdoors       835935    330\n",
       "Power & Hand Tools        8353    306\n",
       "Beauty                   19010    302\n",
       "Pet Supplies              9152    285"
      ]
     },
     "execution_count": 46,
     "metadata": {},
     "output_type": "execute_result"
    }
   ],
   "source": [
    "crosstab_data.sort_values(True,ascending=False).iloc[0:7]"
   ]
  },
  {
   "cell_type": "code",
   "execution_count": 105,
   "id": "dfab54ee-eab5-4984-8424-7200de93df51",
   "metadata": {
    "tags": []
   },
   "outputs": [],
   "source": [
    "# Plotting a stacked bar chart for the 'crosstab_result' data\n",
    "subset = selected_columns.sort_values(True,ascending=False).iloc[0:7]\n"
   ]
  },
  {
   "cell_type": "code",
   "execution_count": 106,
   "id": "dfa985fc-c7e3-4b7a-b767-7c5f6aa6a36d",
   "metadata": {
    "tags": []
   },
   "outputs": [
    {
     "data": {
      "image/png": "[encoded data removed]",
      "text/plain": [
       "<Figure size 640x480 with 1 Axes>"
      ]
     },
     "metadata": {},
     "output_type": "display_data"
    }
   ],
   "source": [
    "ax = selected_columns.iloc[0:15].plot(kind=\"barh\", stacked=True) #,x=crosstab_data.values, y=crosstab_data.index)\n",
    "ax.set_ylabel('')\n",
    "plt.show()"
   ]
  },
  {
   "cell_type": "markdown",
   "id": "9a08f629-9869-445c-94a4-1edbe82a7c7f",
   "metadata": {},
   "source": [
    "## Part 2: Exploring Product Prices and Ratings Across Categories and Brands\n",
    "**Objective:** Investigate how different product categories influence product prices.\n",
    "\n",
    "\n"
   ]
  },
  {
   "cell_type": "markdown",
   "id": "64aa45bb-c311-4bc0-99ed-e05e080fd01a",
   "metadata": {},
   "source": [
    "**0. Preliminary Step: Remove outliers in product prices.**\n",
    "\n",
    "For this purpose, we can use the IQR (Interquartile Range) method. Products priced below the first quartile minus 1.5 times the IQR or above the third quartile plus 1.5 times the IQR will be considered outliers and removed from the dataset. The next steps will be done with the dataframe without outliers.\n",
    "\n",
    "Hint: you can check the last Check For Understanding at the end of the lesson EDA Bivariate Analysis for a hint on how to do this."
   ]
  },
  {
   "cell_type": "code",
   "execution_count": 71,
   "id": "32bc9cea-aa97-4306-aab5-1d204367ecd6",
   "metadata": {
    "tags": []
   },
   "outputs": [
    {
     "data": {
      "text/plain": [
       "36.0"
      ]
     },
     "execution_count": 71,
     "metadata": {},
     "output_type": "execute_result"
    }
   ],
   "source": [
    "Q1 = df['price'].quantile(0.25)\n",
    "Q3 = df['price'].quantile(0.75)\n",
    "IQR = Q3 - Q1\n",
    "\n",
    "IQR"
   ]
  },
  {
   "cell_type": "code",
   "execution_count": 107,
   "id": "f6efa7fe-6422-44d6-9c9e-6111d2bc1ac6",
   "metadata": {
    "tags": []
   },
   "outputs": [],
   "source": [
    "lower = Q1 - 1.5 * IQR\n",
    "upper = Q3 + 1.5 * IQR"
   ]
  },
  {
   "cell_type": "code",
   "execution_count": 109,
   "id": "1ccb8123-8e1e-47b1-825f-49c2c5df5565",
   "metadata": {
    "tags": []
   },
   "outputs": [
    {
     "data": {
      "text/plain": [
       "(-44.01, 99.99000000000001)"
      ]
     },
     "execution_count": 109,
     "metadata": {},
     "output_type": "execute_result"
    }
   ],
   "source": [
    "lower, upper"
   ]
  },
  {
   "cell_type": "code",
   "execution_count": 118,
   "id": "7cfd361a-5dec-4579-9bcc-561bb44376cf",
   "metadata": {
    "tags": []
   },
   "outputs": [],
   "source": [
    "df_filter = df[(df['price'] >= lower) & (df['price'] <= upper)]"
   ]
  },
  {
   "cell_type": "code",
   "execution_count": 120,
   "id": "d7102b2e-b284-45d0-bb83-258e6a2837cd",
   "metadata": {
    "tags": []
   },
   "outputs": [
    {
     "data": {
      "text/html": [
       "<div>\n",
       "<style scoped>\n",
       "    .dataframe tbody tr th:only-of-type {\n",
       "        vertical-align: middle;\n",
       "    }\n",
       "\n",
       "    .dataframe tbody tr th {\n",
       "        vertical-align: top;\n",
       "    }\n",
       "\n",
       "    .dataframe thead th {\n",
       "        text-align: right;\n",
       "    }\n",
       "</style>\n",
       "<table border=\"1\" class=\"dataframe\">\n",
       "  <thead>\n",
       "    <tr style=\"text-align: right;\">\n",
       "      <th></th>\n",
       "      <th>uid</th>\n",
       "      <th>asin</th>\n",
       "      <th>title</th>\n",
       "      <th>stars</th>\n",
       "      <th>reviews</th>\n",
       "      <th>price</th>\n",
       "      <th>isBestSeller</th>\n",
       "      <th>boughtInLastMonth</th>\n",
       "      <th>category</th>\n",
       "    </tr>\n",
       "  </thead>\n",
       "  <tbody>\n",
       "    <tr>\n",
       "      <th>0</th>\n",
       "      <td>1</td>\n",
       "      <td>B09B96TG33</td>\n",
       "      <td>Echo Dot (5th generation, 2022 release) | Big ...</td>\n",
       "      <td>4.7</td>\n",
       "      <td>15308</td>\n",
       "      <td>21.99</td>\n",
       "      <td>False</td>\n",
       "      <td>0</td>\n",
       "      <td>Hi-Fi Speakers</td>\n",
       "    </tr>\n",
       "    <tr>\n",
       "      <th>1</th>\n",
       "      <td>2</td>\n",
       "      <td>B01HTH3C8S</td>\n",
       "      <td>Anker Soundcore mini, Super-Portable Bluetooth...</td>\n",
       "      <td>4.7</td>\n",
       "      <td>98099</td>\n",
       "      <td>23.99</td>\n",
       "      <td>True</td>\n",
       "      <td>0</td>\n",
       "      <td>Hi-Fi Speakers</td>\n",
       "    </tr>\n",
       "  </tbody>\n",
       "</table>\n",
       "</div>"
      ],
      "text/plain": [
       "   uid        asin                                              title  stars  \\\n",
       "0    1  B09B96TG33  Echo Dot (5th generation, 2022 release) | Big ...    4.7   \n",
       "1    2  B01HTH3C8S  Anker Soundcore mini, Super-Portable Bluetooth...    4.7   \n",
       "\n",
       "   reviews  price  isBestSeller  boughtInLastMonth        category  \n",
       "0    15308  21.99         False                  0  Hi-Fi Speakers  \n",
       "1    98099  23.99          True                  0  Hi-Fi Speakers  "
      ]
     },
     "execution_count": 120,
     "metadata": {},
     "output_type": "execute_result"
    }
   ],
   "source": [
    "df_filter.head(2)"
   ]
  },
  {
   "cell_type": "markdown",
   "id": "242db80d-be3b-4a4b-a584-f66500d654a7",
   "metadata": {},
   "source": [
    "**1. Violin Plots:**\n",
    "\n",
    "- Use a violin plot to visualize the distribution of 'price' across different product 'categories'. Filter out the top 20 categories based on count for better visualization.\n",
    " - Which product category tends to have the highest median price? Don't filter here by top categories.\n"
   ]
  },
  {
   "cell_type": "code",
   "execution_count": 137,
   "id": "2b277048-5034-4f20-bdae-c55acbab63fc",
   "metadata": {
    "tags": []
   },
   "outputs": [],
   "source": [
    "cat_list = df_filter['category'].value_counts().head(10).index"
   ]
  },
  {
   "cell_type": "code",
   "execution_count": 145,
   "id": "eed49ac7-35fd-4d75-ba38-171103cd03ad",
   "metadata": {
    "tags": []
   },
   "outputs": [],
   "source": [
    "#cat_list"
   ]
  },
  {
   "cell_type": "code",
   "execution_count": 140,
   "id": "af86f393-8575-454e-9af2-4d15b55899a8",
   "metadata": {
    "tags": []
   },
   "outputs": [],
   "source": [
    "#df_filter[df_filter['category'].isin(cat_list)]"
   ]
  },
  {
   "cell_type": "code",
   "execution_count": 144,
   "id": "9266a9c1-21e1-4c11-bf76-9436b5d7e795",
   "metadata": {
    "tags": []
   },
   "outputs": [
    {
     "data": {
      "text/plain": [
       "<Axes: xlabel='price', ylabel='category'>"
      ]
     },
     "execution_count": 144,
     "metadata": {},
     "output_type": "execute_result"
    },
    {
     "data": {
      "image/png": "[encoded data removed]",
      "text/plain": [
       "<Figure size 640x480 with 1 Axes>"
      ]
     },
     "metadata": {},
     "output_type": "display_data"
    }
   ],
   "source": [
    "#plt.figure(figsize=(10, 10))\n",
    "sns.violinplot(data=df_filter[df_filter['category'].isin(cat_list)], x='price', y='category', palette=\"coolwarm\")"
   ]
  },
  {
   "cell_type": "markdown",
   "id": "ab76cb36-de7d-48b4-b2f4-e6424f9ff306",
   "metadata": {},
   "source": [
    "- The highest median price is for products from 'Sports & Outdoors' category"
   ]
  },
  {
   "cell_type": "code",
   "execution_count": 152,
   "id": "4c420c99-f509-46b1-8502-882e0b6b31d9",
   "metadata": {
    "tags": []
   },
   "outputs": [
    {
     "data": {
      "text/plain": [
       "category\n",
       "Sports & Outdoors                         18.320\n",
       "Birthday Gifts                            13.990\n",
       "Handmade Gifts                            12.990\n",
       "Skin Care                                 12.000\n",
       "Bath & Body                               11.635\n",
       "Hair Care                                  9.970\n",
       "Beauty                                     8.990\n",
       "Handmade Clothing, Shoes & Accessories     8.990\n",
       "Manicure & Pedicure Products               7.500\n",
       "Make-up                                    7.000\n",
       "Name: price, dtype: float64"
      ]
     },
     "execution_count": 152,
     "metadata": {},
     "output_type": "execute_result"
    }
   ],
   "source": [
    "#df_filter['category'].value_counts().head(10).median()\n",
    "\n",
    "df_filter[df_filter['category'].isin(cat_list)].groupby('category')['price'].median().sort_values(ascending=False)"
   ]
  },
  {
   "cell_type": "code",
   "execution_count": 153,
   "id": "ba8a00dc-bfbd-4f4d-bae5-0d2db6e6529f",
   "metadata": {
    "tags": []
   },
   "outputs": [
    {
     "data": {
      "text/plain": [
       "category\n",
       "Sports & Outdoors                         25.172065\n",
       "Birthday Gifts                            18.600195\n",
       "Handmade Gifts                            17.395112\n",
       "Skin Care                                 15.654722\n",
       "Bath & Body                               14.678683\n",
       "Hair Care                                 13.461408\n",
       "Handmade Clothing, Shoes & Accessories    12.958639\n",
       "Beauty                                    12.523480\n",
       "Make-up                                   10.612918\n",
       "Manicure & Pedicure Products              10.231825\n",
       "Name: price, dtype: float64"
      ]
     },
     "execution_count": 153,
     "metadata": {},
     "output_type": "execute_result"
    }
   ],
   "source": [
    "df_filter[df_filter['category'].isin(cat_list)].groupby('category')['price'].mean().sort_values(ascending=False)"
   ]
  },
  {
   "cell_type": "markdown",
   "id": "340cc61a-13ab-4ce2-986b-5a45b59a58fe",
   "metadata": {},
   "source": [
    "**2. Bar Charts:**\n",
    "\n",
    "- Create a bar chart comparing the average price of products for the top 10 product categories (based on count).\n",
    "- Which product category commands the highest average price? Don't filter here by top categories.\n"
   ]
  },
  {
   "cell_type": "code",
   "execution_count": 159,
   "id": "69767441-9518-498f-9642-6ca50da87ebd",
   "metadata": {
    "tags": []
   },
   "outputs": [
    {
     "data": {
      "text/plain": [
       "[Text(0.5, 1.0, ''), Text(0.5, 0, ''), Text(0, 0.5, '')]"
      ]
     },
     "execution_count": 159,
     "metadata": {},
     "output_type": "execute_result"
    },
    {
     "data": {
      "image/png": "[encoded data removed]",
      "text/plain": [
       "<Figure size 640x480 with 1 Axes>"
      ]
     },
     "metadata": {},
     "output_type": "display_data"
    }
   ],
   "source": [
    "ax = sns.barplot(data=df_filter[df_filter['category'].isin(cat_list)], y='category' , x='price', estimator='mean', errorbar=None)\n",
    "ax.set(title='', xlabel='', ylabel='')"
   ]
  },
  {
   "cell_type": "markdown",
   "id": "35054b7e-382d-48c8-b735-ac332d440800",
   "metadata": {},
   "source": [
    "**3. Box Plots:**\n",
    "\n",
    " - Visualize the distribution of product 'ratings' based on their 'category' using side-by-side box plots. Filter out the top 10 categories based on count for better visualization.\n",
    "- Which category tends to receive the highest median rating from customers? Don't filter here by top categories."
   ]
  },
  {
   "cell_type": "code",
   "execution_count": null,
   "id": "16cb17c0-5e14-4b2b-aa82-146f2fe4b613",
   "metadata": {},
   "outputs": [],
   "source": []
  },
  {
   "cell_type": "markdown",
   "id": "281d38fe-62a9-4b47-969f-32764a6aa654",
   "metadata": {
    "tags": []
   },
   "source": [
    "## Part 3: Investigating the Interplay Between Product Prices and Ratings\n",
    "**Objective:** Analyze how product ratings (stars) correlate with product prices.\n",
    "\n",
    "**1. Correlation Coefficients:**\n",
    "\n",
    " - Calculate the correlation coefficient between 'price' and 'stars'.\n",
    " - Is there a significant correlation between product price and its rating?\n"
   ]
  },
  {
   "cell_type": "code",
   "execution_count": null,
   "id": "471196d8-9d4a-43e7-bd2f-6423d96725c3",
   "metadata": {},
   "outputs": [],
   "source": []
  },
  {
   "cell_type": "markdown",
   "id": "612b9649-9e54-4a82-bfc3-e854a0d5f0e9",
   "metadata": {},
   "source": [
    "**2. Visualizations:**\n",
    "\n",
    "- Use a scatter plot to visualize the relationship between product rating and price. What patterns can you observe?\n",
    "- Use a correlation heatmap to visualize correlations between all numerical variables.\n",
    "- Examine if product prices typically follow a normal distribution using a QQ plot."
   ]
  },
  {
   "cell_type": "code",
   "execution_count": null,
   "id": "872b9b7c-a995-440f-b5f8-e36c401616f6",
   "metadata": {},
   "outputs": [],
   "source": []
  }
 ],
 "metadata": {
  "kernelspec": {
   "display_name": "Python 3 (ipykernel)",
   "language": "python",
   "name": "python3"
  },
  "language_info": {
   "codemirror_mode": {
    "name": "ipython",
    "version": 3
   },
   "file_extension": ".py",
   "mimetype": "text/x-python",
   "name": "python",
   "nbconvert_exporter": "python",
   "pygments_lexer": "ipython3",
   "version": "3.11.5"
  }
 },
 "nbformat": 4,
 "nbformat_minor": 5
}
